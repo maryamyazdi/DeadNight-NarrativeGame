{
  "cells": [
    {
      "cell_type": "code",
      "execution_count": 3,
      "id": "d88ec7ee-7a9c-4e82-898d-d4c758119b1e",
      "metadata": {
        "id": "d88ec7ee-7a9c-4e82-898d-d4c758119b1e"
      },
      "outputs": [],
      "source": [
        "import numpy as np\n",
        "import pandas as pd\n",
        "import matplotlib.pyplot as plt"
      ]
    },
    {
      "cell_type": "code",
      "execution_count": 5,
      "id": "70820646-766a-45cd-b3a0-b52fe460b4a7",
      "metadata": {
        "colab": {
          "base_uri": "https://localhost:8080/",
          "height": 319
        },
        "id": "70820646-766a-45cd-b3a0-b52fe460b4a7",
        "outputId": "92d3d5c7-ecf5-4d28-d235-2c2bd4a66a4a"
      },
      "outputs": [
        {
          "output_type": "execute_result",
          "data": {
            "text/html": [
              "\n",
              "  <div id=\"df-530a3473-a8db-4da5-a63f-097d91c0e095\">\n",
              "    <div class=\"colab-df-container\">\n",
              "      <div>\n",
              "<style scoped>\n",
              "    .dataframe tbody tr th:only-of-type {\n",
              "        vertical-align: middle;\n",
              "    }\n",
              "\n",
              "    .dataframe tbody tr th {\n",
              "        vertical-align: top;\n",
              "    }\n",
              "\n",
              "    .dataframe thead th {\n",
              "        text-align: right;\n",
              "    }\n",
              "</style>\n",
              "<table border=\"1\" class=\"dataframe\">\n",
              "  <thead>\n",
              "    <tr style=\"text-align: right;\">\n",
              "      <th></th>\n",
              "      <th>Distance(metres)</th>\n",
              "      <th>Heartrate(BPM)</th>\n",
              "      <th>Speed(m/s)</th>\n",
              "      <th>WindSpeed (m/s)</th>\n",
              "      <th>Cadaence(revs/s)</th>\n",
              "      <th>Elevation(meters)</th>\n",
              "      <th>Hill slope(%)</th>\n",
              "      <th>Temperature(C)</th>\n",
              "      <th>Cluster</th>\n",
              "    </tr>\n",
              "    <tr>\n",
              "      <th>Power(watts)</th>\n",
              "      <th></th>\n",
              "      <th></th>\n",
              "      <th></th>\n",
              "      <th></th>\n",
              "      <th></th>\n",
              "      <th></th>\n",
              "      <th></th>\n",
              "      <th></th>\n",
              "      <th></th>\n",
              "    </tr>\n",
              "  </thead>\n",
              "  <tbody>\n",
              "    <tr>\n",
              "      <th>0.0</th>\n",
              "      <td>0.000</td>\n",
              "      <td>57.0</td>\n",
              "      <td>1.4305</td>\n",
              "      <td>1.6093</td>\n",
              "      <td>0.0</td>\n",
              "      <td>55.778</td>\n",
              "      <td>-2.85</td>\n",
              "      <td>25.556</td>\n",
              "      <td>C</td>\n",
              "    </tr>\n",
              "    <tr>\n",
              "      <th>0.0</th>\n",
              "      <td>0.000</td>\n",
              "      <td>57.0</td>\n",
              "      <td>1.6540</td>\n",
              "      <td>2.9505</td>\n",
              "      <td>0.0</td>\n",
              "      <td>55.778</td>\n",
              "      <td>-4.40</td>\n",
              "      <td>25.556</td>\n",
              "      <td>C</td>\n",
              "    </tr>\n",
              "    <tr>\n",
              "      <th>0.0</th>\n",
              "      <td>0.000</td>\n",
              "      <td>57.0</td>\n",
              "      <td>2.5034</td>\n",
              "      <td>3.1740</td>\n",
              "      <td>0.0</td>\n",
              "      <td>55.778</td>\n",
              "      <td>-5.85</td>\n",
              "      <td>25.556</td>\n",
              "      <td>C</td>\n",
              "    </tr>\n",
              "    <tr>\n",
              "      <th>0.0</th>\n",
              "      <td>16.093</td>\n",
              "      <td>61.0</td>\n",
              "      <td>2.5034</td>\n",
              "      <td>3.8445</td>\n",
              "      <td>0.0</td>\n",
              "      <td>55.778</td>\n",
              "      <td>-6.30</td>\n",
              "      <td>25.556</td>\n",
              "      <td>C</td>\n",
              "    </tr>\n",
              "    <tr>\n",
              "      <th>0.0</th>\n",
              "      <td>16.093</td>\n",
              "      <td>62.0</td>\n",
              "      <td>2.5481</td>\n",
              "      <td>3.2187</td>\n",
              "      <td>0.0</td>\n",
              "      <td>55.778</td>\n",
              "      <td>-5.62</td>\n",
              "      <td>25.556</td>\n",
              "      <td>C</td>\n",
              "    </tr>\n",
              "  </tbody>\n",
              "</table>\n",
              "</div>\n",
              "      <button class=\"colab-df-convert\" onclick=\"convertToInteractive('df-530a3473-a8db-4da5-a63f-097d91c0e095')\"\n",
              "              title=\"Convert this dataframe to an interactive table.\"\n",
              "              style=\"display:none;\">\n",
              "        \n",
              "  <svg xmlns=\"http://www.w3.org/2000/svg\" height=\"24px\"viewBox=\"0 0 24 24\"\n",
              "       width=\"24px\">\n",
              "    <path d=\"M0 0h24v24H0V0z\" fill=\"none\"/>\n",
              "    <path d=\"M18.56 5.44l.94 2.06.94-2.06 2.06-.94-2.06-.94-.94-2.06-.94 2.06-2.06.94zm-11 1L8.5 8.5l.94-2.06 2.06-.94-2.06-.94L8.5 2.5l-.94 2.06-2.06.94zm10 10l.94 2.06.94-2.06 2.06-.94-2.06-.94-.94-2.06-.94 2.06-2.06.94z\"/><path d=\"M17.41 7.96l-1.37-1.37c-.4-.4-.92-.59-1.43-.59-.52 0-1.04.2-1.43.59L10.3 9.45l-7.72 7.72c-.78.78-.78 2.05 0 2.83L4 21.41c.39.39.9.59 1.41.59.51 0 1.02-.2 1.41-.59l7.78-7.78 2.81-2.81c.8-.78.8-2.07 0-2.86zM5.41 20L4 18.59l7.72-7.72 1.47 1.35L5.41 20z\"/>\n",
              "  </svg>\n",
              "      </button>\n",
              "      \n",
              "  <style>\n",
              "    .colab-df-container {\n",
              "      display:flex;\n",
              "      flex-wrap:wrap;\n",
              "      gap: 12px;\n",
              "    }\n",
              "\n",
              "    .colab-df-convert {\n",
              "      background-color: #E8F0FE;\n",
              "      border: none;\n",
              "      border-radius: 50%;\n",
              "      cursor: pointer;\n",
              "      display: none;\n",
              "      fill: #1967D2;\n",
              "      height: 32px;\n",
              "      padding: 0 0 0 0;\n",
              "      width: 32px;\n",
              "    }\n",
              "\n",
              "    .colab-df-convert:hover {\n",
              "      background-color: #E2EBFA;\n",
              "      box-shadow: 0px 1px 2px rgba(60, 64, 67, 0.3), 0px 1px 3px 1px rgba(60, 64, 67, 0.15);\n",
              "      fill: #174EA6;\n",
              "    }\n",
              "\n",
              "    [theme=dark] .colab-df-convert {\n",
              "      background-color: #3B4455;\n",
              "      fill: #D2E3FC;\n",
              "    }\n",
              "\n",
              "    [theme=dark] .colab-df-convert:hover {\n",
              "      background-color: #434B5C;\n",
              "      box-shadow: 0px 1px 3px 1px rgba(0, 0, 0, 0.15);\n",
              "      filter: drop-shadow(0px 1px 2px rgba(0, 0, 0, 0.3));\n",
              "      fill: #FFFFFF;\n",
              "    }\n",
              "  </style>\n",
              "\n",
              "      <script>\n",
              "        const buttonEl =\n",
              "          document.querySelector('#df-530a3473-a8db-4da5-a63f-097d91c0e095 button.colab-df-convert');\n",
              "        buttonEl.style.display =\n",
              "          google.colab.kernel.accessAllowed ? 'block' : 'none';\n",
              "\n",
              "        async function convertToInteractive(key) {\n",
              "          const element = document.querySelector('#df-530a3473-a8db-4da5-a63f-097d91c0e095');\n",
              "          const dataTable =\n",
              "            await google.colab.kernel.invokeFunction('convertToInteractive',\n",
              "                                                     [key], {});\n",
              "          if (!dataTable) return;\n",
              "\n",
              "          const docLinkHtml = 'Like what you see? Visit the ' +\n",
              "            '<a target=\"_blank\" href=https://colab.research.google.com/notebooks/data_table.ipynb>data table notebook</a>'\n",
              "            + ' to learn more about interactive tables.';\n",
              "          element.innerHTML = '';\n",
              "          dataTable['output_type'] = 'display_data';\n",
              "          await google.colab.output.renderOutput(dataTable, element);\n",
              "          const docLink = document.createElement('div');\n",
              "          docLink.innerHTML = docLinkHtml;\n",
              "          element.appendChild(docLink);\n",
              "        }\n",
              "      </script>\n",
              "    </div>\n",
              "  </div>\n",
              "  "
            ],
            "text/plain": [
              "              Distance(metres)  Heartrate(BPM)  ...  Temperature(C)  Cluster\n",
              "Power(watts)                                    ...                         \n",
              "0.0                      0.000            57.0  ...          25.556        C\n",
              "0.0                      0.000            57.0  ...          25.556        C\n",
              "0.0                      0.000            57.0  ...          25.556        C\n",
              "0.0                     16.093            61.0  ...          25.556        C\n",
              "0.0                     16.093            62.0  ...          25.556        C\n",
              "\n",
              "[5 rows x 9 columns]"
            ]
          },
          "metadata": {},
          "execution_count": 5
        }
      ],
      "source": [
        "all_data = pd.read_csv('dataset.csv', index_col=0)\n",
        "all_data.head()"
      ]
    },
    {
      "cell_type": "code",
      "execution_count": null,
      "id": "293d144d-2b38-43ed-9c7a-c22b29c775e3",
      "metadata": {
        "id": "293d144d-2b38-43ed-9c7a-c22b29c775e3"
      },
      "outputs": [],
      "source": [
        "# not working !!!!!!!!!!!!!\n",
        "# import seaborn as sns\n",
        "#  sns.pairplot(data=all_data, hue= 'Cluster')"
      ]
    },
    {
      "cell_type": "code",
      "execution_count": 6,
      "id": "c9c7f532-f2b3-4916-8a6e-46a3885ea06b",
      "metadata": {
        "colab": {
          "base_uri": "https://localhost:8080/",
          "height": 319
        },
        "id": "c9c7f532-f2b3-4916-8a6e-46a3885ea06b",
        "outputId": "1127fe7c-1885-484d-f628-ef1aa2ec1851"
      },
      "outputs": [
        {
          "output_type": "execute_result",
          "data": {
            "text/html": [
              "\n",
              "  <div id=\"df-6273c926-51d6-4335-89b3-fde740123cfe\">\n",
              "    <div class=\"colab-df-container\">\n",
              "      <div>\n",
              "<style scoped>\n",
              "    .dataframe tbody tr th:only-of-type {\n",
              "        vertical-align: middle;\n",
              "    }\n",
              "\n",
              "    .dataframe tbody tr th {\n",
              "        vertical-align: top;\n",
              "    }\n",
              "\n",
              "    .dataframe thead th {\n",
              "        text-align: right;\n",
              "    }\n",
              "</style>\n",
              "<table border=\"1\" class=\"dataframe\">\n",
              "  <thead>\n",
              "    <tr style=\"text-align: right;\">\n",
              "      <th></th>\n",
              "      <th>Distance(metres)</th>\n",
              "      <th>Heartrate(BPM)</th>\n",
              "      <th>Speed(m/s)</th>\n",
              "      <th>WindSpeed (m/s)</th>\n",
              "      <th>Cadaence(revs/s)</th>\n",
              "      <th>Elevation(meters)</th>\n",
              "      <th>Hill slope(%)</th>\n",
              "      <th>Temperature(C)</th>\n",
              "    </tr>\n",
              "    <tr>\n",
              "      <th>Power(watts)</th>\n",
              "      <th></th>\n",
              "      <th></th>\n",
              "      <th></th>\n",
              "      <th></th>\n",
              "      <th></th>\n",
              "      <th></th>\n",
              "      <th></th>\n",
              "      <th></th>\n",
              "    </tr>\n",
              "  </thead>\n",
              "  <tbody>\n",
              "    <tr>\n",
              "      <th>0.0</th>\n",
              "      <td>0.000</td>\n",
              "      <td>57.0</td>\n",
              "      <td>1.4305</td>\n",
              "      <td>1.6093</td>\n",
              "      <td>0.0</td>\n",
              "      <td>55.778</td>\n",
              "      <td>-2.85</td>\n",
              "      <td>25.556</td>\n",
              "    </tr>\n",
              "    <tr>\n",
              "      <th>0.0</th>\n",
              "      <td>0.000</td>\n",
              "      <td>57.0</td>\n",
              "      <td>1.6540</td>\n",
              "      <td>2.9505</td>\n",
              "      <td>0.0</td>\n",
              "      <td>55.778</td>\n",
              "      <td>-4.40</td>\n",
              "      <td>25.556</td>\n",
              "    </tr>\n",
              "    <tr>\n",
              "      <th>0.0</th>\n",
              "      <td>0.000</td>\n",
              "      <td>57.0</td>\n",
              "      <td>2.5034</td>\n",
              "      <td>3.1740</td>\n",
              "      <td>0.0</td>\n",
              "      <td>55.778</td>\n",
              "      <td>-5.85</td>\n",
              "      <td>25.556</td>\n",
              "    </tr>\n",
              "    <tr>\n",
              "      <th>0.0</th>\n",
              "      <td>16.093</td>\n",
              "      <td>61.0</td>\n",
              "      <td>2.5034</td>\n",
              "      <td>3.8445</td>\n",
              "      <td>0.0</td>\n",
              "      <td>55.778</td>\n",
              "      <td>-6.30</td>\n",
              "      <td>25.556</td>\n",
              "    </tr>\n",
              "    <tr>\n",
              "      <th>0.0</th>\n",
              "      <td>16.093</td>\n",
              "      <td>62.0</td>\n",
              "      <td>2.5481</td>\n",
              "      <td>3.2187</td>\n",
              "      <td>0.0</td>\n",
              "      <td>55.778</td>\n",
              "      <td>-5.62</td>\n",
              "      <td>25.556</td>\n",
              "    </tr>\n",
              "  </tbody>\n",
              "</table>\n",
              "</div>\n",
              "      <button class=\"colab-df-convert\" onclick=\"convertToInteractive('df-6273c926-51d6-4335-89b3-fde740123cfe')\"\n",
              "              title=\"Convert this dataframe to an interactive table.\"\n",
              "              style=\"display:none;\">\n",
              "        \n",
              "  <svg xmlns=\"http://www.w3.org/2000/svg\" height=\"24px\"viewBox=\"0 0 24 24\"\n",
              "       width=\"24px\">\n",
              "    <path d=\"M0 0h24v24H0V0z\" fill=\"none\"/>\n",
              "    <path d=\"M18.56 5.44l.94 2.06.94-2.06 2.06-.94-2.06-.94-.94-2.06-.94 2.06-2.06.94zm-11 1L8.5 8.5l.94-2.06 2.06-.94-2.06-.94L8.5 2.5l-.94 2.06-2.06.94zm10 10l.94 2.06.94-2.06 2.06-.94-2.06-.94-.94-2.06-.94 2.06-2.06.94z\"/><path d=\"M17.41 7.96l-1.37-1.37c-.4-.4-.92-.59-1.43-.59-.52 0-1.04.2-1.43.59L10.3 9.45l-7.72 7.72c-.78.78-.78 2.05 0 2.83L4 21.41c.39.39.9.59 1.41.59.51 0 1.02-.2 1.41-.59l7.78-7.78 2.81-2.81c.8-.78.8-2.07 0-2.86zM5.41 20L4 18.59l7.72-7.72 1.47 1.35L5.41 20z\"/>\n",
              "  </svg>\n",
              "      </button>\n",
              "      \n",
              "  <style>\n",
              "    .colab-df-container {\n",
              "      display:flex;\n",
              "      flex-wrap:wrap;\n",
              "      gap: 12px;\n",
              "    }\n",
              "\n",
              "    .colab-df-convert {\n",
              "      background-color: #E8F0FE;\n",
              "      border: none;\n",
              "      border-radius: 50%;\n",
              "      cursor: pointer;\n",
              "      display: none;\n",
              "      fill: #1967D2;\n",
              "      height: 32px;\n",
              "      padding: 0 0 0 0;\n",
              "      width: 32px;\n",
              "    }\n",
              "\n",
              "    .colab-df-convert:hover {\n",
              "      background-color: #E2EBFA;\n",
              "      box-shadow: 0px 1px 2px rgba(60, 64, 67, 0.3), 0px 1px 3px 1px rgba(60, 64, 67, 0.15);\n",
              "      fill: #174EA6;\n",
              "    }\n",
              "\n",
              "    [theme=dark] .colab-df-convert {\n",
              "      background-color: #3B4455;\n",
              "      fill: #D2E3FC;\n",
              "    }\n",
              "\n",
              "    [theme=dark] .colab-df-convert:hover {\n",
              "      background-color: #434B5C;\n",
              "      box-shadow: 0px 1px 3px 1px rgba(0, 0, 0, 0.15);\n",
              "      filter: drop-shadow(0px 1px 2px rgba(0, 0, 0, 0.3));\n",
              "      fill: #FFFFFF;\n",
              "    }\n",
              "  </style>\n",
              "\n",
              "      <script>\n",
              "        const buttonEl =\n",
              "          document.querySelector('#df-6273c926-51d6-4335-89b3-fde740123cfe button.colab-df-convert');\n",
              "        buttonEl.style.display =\n",
              "          google.colab.kernel.accessAllowed ? 'block' : 'none';\n",
              "\n",
              "        async function convertToInteractive(key) {\n",
              "          const element = document.querySelector('#df-6273c926-51d6-4335-89b3-fde740123cfe');\n",
              "          const dataTable =\n",
              "            await google.colab.kernel.invokeFunction('convertToInteractive',\n",
              "                                                     [key], {});\n",
              "          if (!dataTable) return;\n",
              "\n",
              "          const docLinkHtml = 'Like what you see? Visit the ' +\n",
              "            '<a target=\"_blank\" href=https://colab.research.google.com/notebooks/data_table.ipynb>data table notebook</a>'\n",
              "            + ' to learn more about interactive tables.';\n",
              "          element.innerHTML = '';\n",
              "          dataTable['output_type'] = 'display_data';\n",
              "          await google.colab.output.renderOutput(dataTable, element);\n",
              "          const docLink = document.createElement('div');\n",
              "          docLink.innerHTML = docLinkHtml;\n",
              "          element.appendChild(docLink);\n",
              "        }\n",
              "      </script>\n",
              "    </div>\n",
              "  </div>\n",
              "  "
            ],
            "text/plain": [
              "              Distance(metres)  Heartrate(BPM)  ...  Hill slope(%)  Temperature(C)\n",
              "Power(watts)                                    ...                               \n",
              "0.0                      0.000            57.0  ...          -2.85          25.556\n",
              "0.0                      0.000            57.0  ...          -4.40          25.556\n",
              "0.0                      0.000            57.0  ...          -5.85          25.556\n",
              "0.0                     16.093            61.0  ...          -6.30          25.556\n",
              "0.0                     16.093            62.0  ...          -5.62          25.556\n",
              "\n",
              "[5 rows x 8 columns]"
            ]
          },
          "metadata": {},
          "execution_count": 6
        }
      ],
      "source": [
        "data = all_data.drop('Cluster', axis=1)\n",
        "data.head()"
      ]
    },
    {
      "cell_type": "code",
      "execution_count": 7,
      "id": "f4590818-b72a-4999-bb1a-5cfee0f1b768",
      "metadata": {
        "colab": {
          "base_uri": "https://localhost:8080/"
        },
        "id": "f4590818-b72a-4999-bb1a-5cfee0f1b768",
        "outputId": "56090215-1aac-4415-e100-ac351f291e53"
      },
      "outputs": [
        {
          "output_type": "stream",
          "name": "stdout",
          "text": [
            "<class 'pandas.core.frame.DataFrame'>\n",
            "Float64Index: 4435 entries, 0.0 to 0.0\n",
            "Data columns (total 8 columns):\n",
            " #   Column             Non-Null Count  Dtype  \n",
            "---  ------             --------------  -----  \n",
            " 0   Distance(metres)   4432 non-null   float64\n",
            " 1   Heartrate(BPM)     4430 non-null   float64\n",
            " 2   Speed(m/s)         4430 non-null   float64\n",
            " 3   WindSpeed (m/s)    4417 non-null   float64\n",
            " 4   Cadaence(revs/s)   4431 non-null   float64\n",
            " 5   Elevation(meters)  4434 non-null   float64\n",
            " 6   Hill slope(%)      4433 non-null   float64\n",
            " 7   Temperature(C)     4433 non-null   float64\n",
            "dtypes: float64(8)\n",
            "memory usage: 311.8 KB\n"
          ]
        }
      ],
      "source": [
        "data.info()"
      ]
    },
    {
      "cell_type": "code",
      "execution_count": 8,
      "id": "3ad6d7e5-a3eb-4772-a1c5-ea101cad8ffd",
      "metadata": {
        "colab": {
          "base_uri": "https://localhost:8080/"
        },
        "id": "3ad6d7e5-a3eb-4772-a1c5-ea101cad8ffd",
        "outputId": "8e16ca5c-804b-46de-85fd-8adc736a7689"
      },
      "outputs": [
        {
          "output_type": "execute_result",
          "data": {
            "text/plain": [
              "Distance(metres)      3\n",
              "Heartrate(BPM)        5\n",
              "Speed(m/s)            5\n",
              "WindSpeed (m/s)      18\n",
              "Cadaence(revs/s)      4\n",
              "Elevation(meters)     1\n",
              "Hill slope(%)         2\n",
              "Temperature(C)        2\n",
              "dtype: int64"
            ]
          },
          "metadata": {},
          "execution_count": 8
        }
      ],
      "source": [
        "data.isnull().sum()"
      ]
    },
    {
      "cell_type": "code",
      "execution_count": 9,
      "id": "a3df2012-b7d6-496f-adea-4e348d30ac92",
      "metadata": {
        "colab": {
          "base_uri": "https://localhost:8080/"
        },
        "id": "a3df2012-b7d6-496f-adea-4e348d30ac92",
        "outputId": "8c964238-942f-42ba-80c3-d357cb1f72a2"
      },
      "outputs": [
        {
          "output_type": "execute_result",
          "data": {
            "text/plain": [
              "19"
            ]
          },
          "metadata": {},
          "execution_count": 9
        }
      ],
      "source": [
        "data[data.isna().any(axis=1)].shape[0]"
      ]
    },
    {
      "cell_type": "code",
      "execution_count": 10,
      "id": "de8a31d1-753a-40f6-b6d5-aec61945f4fe",
      "metadata": {
        "id": "de8a31d1-753a-40f6-b6d5-aec61945f4fe"
      },
      "outputs": [],
      "source": [
        "data.dropna(axis=0,inplace=True,how=\"any\")"
      ]
    },
    {
      "cell_type": "code",
      "execution_count": 11,
      "id": "b799cda5-1310-4a05-be2e-c8a310edf354",
      "metadata": {
        "colab": {
          "base_uri": "https://localhost:8080/"
        },
        "id": "b799cda5-1310-4a05-be2e-c8a310edf354",
        "outputId": "5d7736a5-44b7-4876-a05a-e7e8afdfbff5"
      },
      "outputs": [
        {
          "output_type": "execute_result",
          "data": {
            "text/plain": [
              "4416"
            ]
          },
          "metadata": {},
          "execution_count": 11
        }
      ],
      "source": [
        "data.shape[0]"
      ]
    },
    {
      "cell_type": "code",
      "execution_count": 12,
      "id": "4752a72d-3ca2-42eb-acad-0f5bb48701a3",
      "metadata": {
        "colab": {
          "base_uri": "https://localhost:8080/",
          "height": 382
        },
        "id": "4752a72d-3ca2-42eb-acad-0f5bb48701a3",
        "outputId": "48fcb2c3-3959-4986-a67f-2c6236d49190"
      },
      "outputs": [
        {
          "output_type": "execute_result",
          "data": {
            "text/html": [
              "\n",
              "  <div id=\"df-ca5cc7af-0058-40c5-a2c8-cee854d594c7\">\n",
              "    <div class=\"colab-df-container\">\n",
              "      <div>\n",
              "<style scoped>\n",
              "    .dataframe tbody tr th:only-of-type {\n",
              "        vertical-align: middle;\n",
              "    }\n",
              "\n",
              "    .dataframe tbody tr th {\n",
              "        vertical-align: top;\n",
              "    }\n",
              "\n",
              "    .dataframe thead th {\n",
              "        text-align: right;\n",
              "    }\n",
              "</style>\n",
              "<table border=\"1\" class=\"dataframe\">\n",
              "  <thead>\n",
              "    <tr style=\"text-align: right;\">\n",
              "      <th></th>\n",
              "      <th>Distance(metres)</th>\n",
              "      <th>Heartrate(BPM)</th>\n",
              "      <th>Speed(m/s)</th>\n",
              "      <th>WindSpeed (m/s)</th>\n",
              "      <th>Cadaence(revs/s)</th>\n",
              "      <th>Elevation(meters)</th>\n",
              "      <th>Hill slope(%)</th>\n",
              "      <th>Temperature(C)</th>\n",
              "    </tr>\n",
              "  </thead>\n",
              "  <tbody>\n",
              "    <tr>\n",
              "      <th>count</th>\n",
              "      <td>4416.000000</td>\n",
              "      <td>4416.000000</td>\n",
              "      <td>4416.000000</td>\n",
              "      <td>4416.000000</td>\n",
              "      <td>4416.000000</td>\n",
              "      <td>4416.000000</td>\n",
              "      <td>4416.000000</td>\n",
              "      <td>4416.000000</td>\n",
              "    </tr>\n",
              "    <tr>\n",
              "      <th>mean</th>\n",
              "      <td>13307.788395</td>\n",
              "      <td>134.580163</td>\n",
              "      <td>6.917809</td>\n",
              "      <td>28.918970</td>\n",
              "      <td>1.057718</td>\n",
              "      <td>296.465173</td>\n",
              "      <td>6.225951</td>\n",
              "      <td>67.243646</td>\n",
              "    </tr>\n",
              "    <tr>\n",
              "      <th>std</th>\n",
              "      <td>8867.214718</td>\n",
              "      <td>190.761472</td>\n",
              "      <td>3.870101</td>\n",
              "      <td>1504.736198</td>\n",
              "      <td>0.454953</td>\n",
              "      <td>204.078042</td>\n",
              "      <td>195.704475</td>\n",
              "      <td>3009.335998</td>\n",
              "    </tr>\n",
              "    <tr>\n",
              "      <th>min</th>\n",
              "      <td>-50000.000000</td>\n",
              "      <td>-5000.000000</td>\n",
              "      <td>0.000000</td>\n",
              "      <td>0.000000</td>\n",
              "      <td>0.000000</td>\n",
              "      <td>48.158000</td>\n",
              "      <td>-14.080000</td>\n",
              "      <td>-273.000000</td>\n",
              "    </tr>\n",
              "    <tr>\n",
              "      <th>25%</th>\n",
              "      <td>7048.900000</td>\n",
              "      <td>123.000000</td>\n",
              "      <td>3.352800</td>\n",
              "      <td>2.548100</td>\n",
              "      <td>0.900000</td>\n",
              "      <td>78.334000</td>\n",
              "      <td>-1.540000</td>\n",
              "      <td>20.556000</td>\n",
              "    </tr>\n",
              "    <tr>\n",
              "      <th>50%</th>\n",
              "      <td>11072.000000</td>\n",
              "      <td>142.000000</td>\n",
              "      <td>5.900900</td>\n",
              "      <td>5.364500</td>\n",
              "      <td>1.150000</td>\n",
              "      <td>288.340000</td>\n",
              "      <td>2.250000</td>\n",
              "      <td>22.222000</td>\n",
              "    </tr>\n",
              "    <tr>\n",
              "      <th>75%</th>\n",
              "      <td>20680.000000</td>\n",
              "      <td>165.000000</td>\n",
              "      <td>9.656000</td>\n",
              "      <td>9.164300</td>\n",
              "      <td>1.383300</td>\n",
              "      <td>506.580000</td>\n",
              "      <td>9.365000</td>\n",
              "      <td>24.444000</td>\n",
              "    </tr>\n",
              "    <tr>\n",
              "      <th>max</th>\n",
              "      <td>30626.000000</td>\n",
              "      <td>174.000000</td>\n",
              "      <td>17.926000</td>\n",
              "      <td>100000.000000</td>\n",
              "      <td>2.266700</td>\n",
              "      <td>628.500000</td>\n",
              "      <td>13000.000000</td>\n",
              "      <td>200000.000000</td>\n",
              "    </tr>\n",
              "  </tbody>\n",
              "</table>\n",
              "</div>\n",
              "      <button class=\"colab-df-convert\" onclick=\"convertToInteractive('df-ca5cc7af-0058-40c5-a2c8-cee854d594c7')\"\n",
              "              title=\"Convert this dataframe to an interactive table.\"\n",
              "              style=\"display:none;\">\n",
              "        \n",
              "  <svg xmlns=\"http://www.w3.org/2000/svg\" height=\"24px\"viewBox=\"0 0 24 24\"\n",
              "       width=\"24px\">\n",
              "    <path d=\"M0 0h24v24H0V0z\" fill=\"none\"/>\n",
              "    <path d=\"M18.56 5.44l.94 2.06.94-2.06 2.06-.94-2.06-.94-.94-2.06-.94 2.06-2.06.94zm-11 1L8.5 8.5l.94-2.06 2.06-.94-2.06-.94L8.5 2.5l-.94 2.06-2.06.94zm10 10l.94 2.06.94-2.06 2.06-.94-2.06-.94-.94-2.06-.94 2.06-2.06.94z\"/><path d=\"M17.41 7.96l-1.37-1.37c-.4-.4-.92-.59-1.43-.59-.52 0-1.04.2-1.43.59L10.3 9.45l-7.72 7.72c-.78.78-.78 2.05 0 2.83L4 21.41c.39.39.9.59 1.41.59.51 0 1.02-.2 1.41-.59l7.78-7.78 2.81-2.81c.8-.78.8-2.07 0-2.86zM5.41 20L4 18.59l7.72-7.72 1.47 1.35L5.41 20z\"/>\n",
              "  </svg>\n",
              "      </button>\n",
              "      \n",
              "  <style>\n",
              "    .colab-df-container {\n",
              "      display:flex;\n",
              "      flex-wrap:wrap;\n",
              "      gap: 12px;\n",
              "    }\n",
              "\n",
              "    .colab-df-convert {\n",
              "      background-color: #E8F0FE;\n",
              "      border: none;\n",
              "      border-radius: 50%;\n",
              "      cursor: pointer;\n",
              "      display: none;\n",
              "      fill: #1967D2;\n",
              "      height: 32px;\n",
              "      padding: 0 0 0 0;\n",
              "      width: 32px;\n",
              "    }\n",
              "\n",
              "    .colab-df-convert:hover {\n",
              "      background-color: #E2EBFA;\n",
              "      box-shadow: 0px 1px 2px rgba(60, 64, 67, 0.3), 0px 1px 3px 1px rgba(60, 64, 67, 0.15);\n",
              "      fill: #174EA6;\n",
              "    }\n",
              "\n",
              "    [theme=dark] .colab-df-convert {\n",
              "      background-color: #3B4455;\n",
              "      fill: #D2E3FC;\n",
              "    }\n",
              "\n",
              "    [theme=dark] .colab-df-convert:hover {\n",
              "      background-color: #434B5C;\n",
              "      box-shadow: 0px 1px 3px 1px rgba(0, 0, 0, 0.15);\n",
              "      filter: drop-shadow(0px 1px 2px rgba(0, 0, 0, 0.3));\n",
              "      fill: #FFFFFF;\n",
              "    }\n",
              "  </style>\n",
              "\n",
              "      <script>\n",
              "        const buttonEl =\n",
              "          document.querySelector('#df-ca5cc7af-0058-40c5-a2c8-cee854d594c7 button.colab-df-convert');\n",
              "        buttonEl.style.display =\n",
              "          google.colab.kernel.accessAllowed ? 'block' : 'none';\n",
              "\n",
              "        async function convertToInteractive(key) {\n",
              "          const element = document.querySelector('#df-ca5cc7af-0058-40c5-a2c8-cee854d594c7');\n",
              "          const dataTable =\n",
              "            await google.colab.kernel.invokeFunction('convertToInteractive',\n",
              "                                                     [key], {});\n",
              "          if (!dataTable) return;\n",
              "\n",
              "          const docLinkHtml = 'Like what you see? Visit the ' +\n",
              "            '<a target=\"_blank\" href=https://colab.research.google.com/notebooks/data_table.ipynb>data table notebook</a>'\n",
              "            + ' to learn more about interactive tables.';\n",
              "          element.innerHTML = '';\n",
              "          dataTable['output_type'] = 'display_data';\n",
              "          await google.colab.output.renderOutput(dataTable, element);\n",
              "          const docLink = document.createElement('div');\n",
              "          docLink.innerHTML = docLinkHtml;\n",
              "          element.appendChild(docLink);\n",
              "        }\n",
              "      </script>\n",
              "    </div>\n",
              "  </div>\n",
              "  "
            ],
            "text/plain": [
              "       Distance(metres)  Heartrate(BPM)  ...  Hill slope(%)  Temperature(C)\n",
              "count       4416.000000     4416.000000  ...    4416.000000     4416.000000\n",
              "mean       13307.788395      134.580163  ...       6.225951       67.243646\n",
              "std         8867.214718      190.761472  ...     195.704475     3009.335998\n",
              "min       -50000.000000    -5000.000000  ...     -14.080000     -273.000000\n",
              "25%         7048.900000      123.000000  ...      -1.540000       20.556000\n",
              "50%        11072.000000      142.000000  ...       2.250000       22.222000\n",
              "75%        20680.000000      165.000000  ...       9.365000       24.444000\n",
              "max        30626.000000      174.000000  ...   13000.000000   200000.000000\n",
              "\n",
              "[8 rows x 8 columns]"
            ]
          },
          "metadata": {},
          "execution_count": 12
        }
      ],
      "source": [
        "data.describe()"
      ]
    },
    {
      "cell_type": "code",
      "execution_count": 13,
      "id": "4a51a855-d184-4ae7-b423-93926e2114b2",
      "metadata": {
        "colab": {
          "base_uri": "https://localhost:8080/",
          "height": 675
        },
        "id": "4a51a855-d184-4ae7-b423-93926e2114b2",
        "outputId": "418b6ad2-5ce0-4fb1-8320-cf0077454d21"
      },
      "outputs": [
        {
          "output_type": "display_data",
          "data": {
            "image/png": "[encoded data removed]",
            "text/plain": [
              "<Figure size 720x720 with 2 Axes>"
            ]
          },
          "metadata": {
            "needs_background": "light"
          }
        }
      ],
      "source": [
        "import seaborn as sns\n",
        "\n",
        "corr_matrix = data.corr()\n",
        "\n",
        "fig, ax = plt.subplots(figsize=(10, 10))\n",
        "sns.heatmap(corr_matrix, ax=ax, annot=True, fmt='.2f')\n",
        "plt.show()"
      ]
    },
    {
      "cell_type": "code",
      "execution_count": 14,
      "id": "54bea5e4-7e87-4401-b29a-2e2d722c20ee",
      "metadata": {
        "colab": {
          "base_uri": "https://localhost:8080/",
          "height": 675
        },
        "id": "54bea5e4-7e87-4401-b29a-2e2d722c20ee",
        "outputId": "da669aeb-0863-4dbd-ec1b-522ad8fd5252"
      },
      "outputs": [
        {
          "output_type": "display_data",
          "data": {
            "image/png": "[encoded data removed]",
            "text/plain": [
              "<Figure size 720x720 with 2 Axes>"
            ]
          },
          "metadata": {
            "needs_background": "light"
          }
        }
      ],
      "source": [
        "removed_extra_data = data.drop(columns=['WindSpeed (m/s)', 'Temperature(C)'])\n",
        "\n",
        "corr_matrix = removed_extra_data.corr()\n",
        "\n",
        "fig, ax = plt.subplots(figsize=(10, 10))\n",
        "sns.heatmap(corr_matrix, ax=ax, annot=True, fmt='.2f')\n",
        "plt.show()"
      ]
    },
    {
      "cell_type": "code",
      "execution_count": 15,
      "id": "200785b4-0592-4839-af1b-aedafa992679",
      "metadata": {
        "colab": {
          "base_uri": "https://localhost:8080/",
          "height": 497
        },
        "id": "200785b4-0592-4839-af1b-aedafa992679",
        "outputId": "774398ed-a980-4fe5-f952-37f20294e788"
      },
      "outputs": [
        {
          "output_type": "display_data",
          "data": {
            "image/png": "[encoded data removed]",
            "text/plain": [
              "<Figure size 1440x720 with 6 Axes>"
            ]
          },
          "metadata": {
            "needs_background": "light"
          }
        }
      ],
      "source": [
        "pd.plotting.hist_frame(removed_extra_data, figsize=(20, 10), grid=False, layout=(2, 3))\n",
        "plt.show()"
      ]
    },
    {
      "cell_type": "code",
      "execution_count": 16,
      "id": "00504f00-7d43-4494-bb66-321edccc865c",
      "metadata": {
        "id": "00504f00-7d43-4494-bb66-321edccc865c"
      },
      "outputs": [],
      "source": [
        "def fix_outliers(col, fixed_value):\n",
        "    Q1 = col.quantile(0.25)\n",
        "    Q3 = col.quantile(0.75)\n",
        "    IQR = Q3 - Q1\n",
        "\n",
        "    outlier_condition = (col < (Q1 - 1.5 * IQR)) | (col > (Q3 + 1.5 * IQR))\n",
        "    col.loc[outlier_condition, ] = fixed_value\n",
        "    return col\n",
        "\n",
        "removed_outliers_data = removed_extra_data\n",
        "\n",
        "removed_outliers_data['Distance(metres)'] = fix_outliers(removed_extra_data['Distance(metres)'], removed_extra_data['Distance(metres)'].median())\n",
        "removed_outliers_data['Heartrate(BPM)'] = fix_outliers(removed_extra_data['Heartrate(BPM)'], removed_extra_data['Heartrate(BPM)'].median())\n",
        "removed_outliers_data['Hill slope(%)'] = fix_outliers(removed_extra_data['Hill slope(%)'], removed_extra_data['Hill slope(%)'].median())"
      ]
    },
    {
      "cell_type": "code",
      "execution_count": null,
      "id": "22ab8e4b-e28c-4739-9ad6-dbe49e957d9c",
      "metadata": {
        "id": "22ab8e4b-e28c-4739-9ad6-dbe49e957d9c",
        "outputId": "20aa07f4-0302-4da1-a6b5-df5fb207abfa"
      },
      "outputs": [
        {
          "data": {
            "image/png": "[encoded data removed]",
            "text/plain": [
              "<Figure size 1440x720 with 6 Axes>"
            ]
          },
          "metadata": {
            "needs_background": "light"
          },
          "output_type": "display_data"
        }
      ],
      "source": [
        "pd.plotting.hist_frame(removed_outliers_data, figsize=(20, 10), grid=False, layout=(2, 3))\n",
        "plt.show()"
      ]
    },
    {
      "cell_type": "code",
      "execution_count": 17,
      "id": "f32cd279-cc6a-49d6-a460-932ea39c7604",
      "metadata": {
        "colab": {
          "base_uri": "https://localhost:8080/",
          "height": 265
        },
        "id": "f32cd279-cc6a-49d6-a460-932ea39c7604",
        "outputId": "74c0c8cb-1b0f-4887-d51a-279046c49036"
      },
      "outputs": [
        {
          "output_type": "display_data",
          "data": {
            "image/png": "[encoded data removed]",
            "text/plain": [
              "<Figure size 432x288 with 1 Axes>"
            ]
          },
          "metadata": {
            "needs_background": "light"
          }
        }
      ],
      "source": [
        "# is this useful ??\n",
        "\n",
        "from sklearn.decomposition import PCA\n",
        "\n",
        "pca = PCA(n_components=2)\n",
        "# pca.fit(removed_outliers_data)\n",
        "\n",
        "# plt.plot(pca.explained_variance_ratio_)\n",
        "# pca.components_ \n",
        "pca_data = pca.fit_transform(removed_outliers_data)\n",
        "\n",
        "plt.scatter(pca_data[:, 0], pca_data[:, 1])\n",
        "plt.show()"
      ]
    },
    {
      "cell_type": "code",
      "execution_count": 18,
      "id": "8a849368-5802-4717-9237-42014ab7b9d8",
      "metadata": {
        "colab": {
          "base_uri": "https://localhost:8080/",
          "height": 424
        },
        "id": "8a849368-5802-4717-9237-42014ab7b9d8",
        "outputId": "0a3e564d-d376-49a9-9492-67aa64d553c1"
      },
      "outputs": [
        {
          "output_type": "execute_result",
          "data": {
            "text/html": [
              "\n",
              "  <div id=\"df-98a14c3e-b7e9-4a1e-8a3b-0bcbcdfb7dcf\">\n",
              "    <div class=\"colab-df-container\">\n",
              "      <div>\n",
              "<style scoped>\n",
              "    .dataframe tbody tr th:only-of-type {\n",
              "        vertical-align: middle;\n",
              "    }\n",
              "\n",
              "    .dataframe tbody tr th {\n",
              "        vertical-align: top;\n",
              "    }\n",
              "\n",
              "    .dataframe thead th {\n",
              "        text-align: right;\n",
              "    }\n",
              "</style>\n",
              "<table border=\"1\" class=\"dataframe\">\n",
              "  <thead>\n",
              "    <tr style=\"text-align: right;\">\n",
              "      <th></th>\n",
              "      <th>Distance(metres)</th>\n",
              "      <th>Heartrate(BPM)</th>\n",
              "      <th>Speed(m/s)</th>\n",
              "      <th>Cadaence(revs/s)</th>\n",
              "      <th>Elevation(meters)</th>\n",
              "      <th>Hill slope(%)</th>\n",
              "    </tr>\n",
              "  </thead>\n",
              "  <tbody>\n",
              "    <tr>\n",
              "      <th>0</th>\n",
              "      <td>0.000000</td>\n",
              "      <td>0.716814</td>\n",
              "      <td>0.079800</td>\n",
              "      <td>0.0</td>\n",
              "      <td>0.01313</td>\n",
              "      <td>0.339172</td>\n",
              "    </tr>\n",
              "    <tr>\n",
              "      <th>1</th>\n",
              "      <td>0.000000</td>\n",
              "      <td>0.716814</td>\n",
              "      <td>0.092268</td>\n",
              "      <td>0.0</td>\n",
              "      <td>0.01313</td>\n",
              "      <td>0.292359</td>\n",
              "    </tr>\n",
              "    <tr>\n",
              "      <th>2</th>\n",
              "      <td>0.000000</td>\n",
              "      <td>0.716814</td>\n",
              "      <td>0.139652</td>\n",
              "      <td>0.0</td>\n",
              "      <td>0.01313</td>\n",
              "      <td>0.248565</td>\n",
              "    </tr>\n",
              "    <tr>\n",
              "      <th>3</th>\n",
              "      <td>0.000525</td>\n",
              "      <td>0.000000</td>\n",
              "      <td>0.139652</td>\n",
              "      <td>0.0</td>\n",
              "      <td>0.01313</td>\n",
              "      <td>0.234974</td>\n",
              "    </tr>\n",
              "    <tr>\n",
              "      <th>4</th>\n",
              "      <td>0.000525</td>\n",
              "      <td>0.008850</td>\n",
              "      <td>0.142145</td>\n",
              "      <td>0.0</td>\n",
              "      <td>0.01313</td>\n",
              "      <td>0.255512</td>\n",
              "    </tr>\n",
              "    <tr>\n",
              "      <th>...</th>\n",
              "      <td>...</td>\n",
              "      <td>...</td>\n",
              "      <td>...</td>\n",
              "      <td>...</td>\n",
              "      <td>...</td>\n",
              "      <td>...</td>\n",
              "    </tr>\n",
              "    <tr>\n",
              "      <th>4411</th>\n",
              "      <td>0.999478</td>\n",
              "      <td>0.345133</td>\n",
              "      <td>0.169580</td>\n",
              "      <td>0.0</td>\n",
              "      <td>0.01103</td>\n",
              "      <td>0.389006</td>\n",
              "    </tr>\n",
              "    <tr>\n",
              "      <th>4412</th>\n",
              "      <td>1.000000</td>\n",
              "      <td>0.345133</td>\n",
              "      <td>0.144639</td>\n",
              "      <td>0.0</td>\n",
              "      <td>0.01103</td>\n",
              "      <td>0.371791</td>\n",
              "    </tr>\n",
              "    <tr>\n",
              "      <th>4413</th>\n",
              "      <td>1.000000</td>\n",
              "      <td>0.345133</td>\n",
              "      <td>0.094762</td>\n",
              "      <td>0.0</td>\n",
              "      <td>0.01103</td>\n",
              "      <td>0.386288</td>\n",
              "    </tr>\n",
              "    <tr>\n",
              "      <th>4414</th>\n",
              "      <td>1.000000</td>\n",
              "      <td>0.336283</td>\n",
              "      <td>0.054864</td>\n",
              "      <td>0.0</td>\n",
              "      <td>0.01103</td>\n",
              "      <td>0.427967</td>\n",
              "    </tr>\n",
              "    <tr>\n",
              "      <th>4415</th>\n",
              "      <td>1.000000</td>\n",
              "      <td>0.336283</td>\n",
              "      <td>0.000000</td>\n",
              "      <td>0.0</td>\n",
              "      <td>0.01103</td>\n",
              "      <td>0.491392</td>\n",
              "    </tr>\n",
              "  </tbody>\n",
              "</table>\n",
              "<p>4416 rows × 6 columns</p>\n",
              "</div>\n",
              "      <button class=\"colab-df-convert\" onclick=\"convertToInteractive('df-98a14c3e-b7e9-4a1e-8a3b-0bcbcdfb7dcf')\"\n",
              "              title=\"Convert this dataframe to an interactive table.\"\n",
              "              style=\"display:none;\">\n",
              "        \n",
              "  <svg xmlns=\"http://www.w3.org/2000/svg\" height=\"24px\"viewBox=\"0 0 24 24\"\n",
              "       width=\"24px\">\n",
              "    <path d=\"M0 0h24v24H0V0z\" fill=\"none\"/>\n",
              "    <path d=\"M18.56 5.44l.94 2.06.94-2.06 2.06-.94-2.06-.94-.94-2.06-.94 2.06-2.06.94zm-11 1L8.5 8.5l.94-2.06 2.06-.94-2.06-.94L8.5 2.5l-.94 2.06-2.06.94zm10 10l.94 2.06.94-2.06 2.06-.94-2.06-.94-.94-2.06-.94 2.06-2.06.94z\"/><path d=\"M17.41 7.96l-1.37-1.37c-.4-.4-.92-.59-1.43-.59-.52 0-1.04.2-1.43.59L10.3 9.45l-7.72 7.72c-.78.78-.78 2.05 0 2.83L4 21.41c.39.39.9.59 1.41.59.51 0 1.02-.2 1.41-.59l7.78-7.78 2.81-2.81c.8-.78.8-2.07 0-2.86zM5.41 20L4 18.59l7.72-7.72 1.47 1.35L5.41 20z\"/>\n",
              "  </svg>\n",
              "      </button>\n",
              "      \n",
              "  <style>\n",
              "    .colab-df-container {\n",
              "      display:flex;\n",
              "      flex-wrap:wrap;\n",
              "      gap: 12px;\n",
              "    }\n",
              "\n",
              "    .colab-df-convert {\n",
              "      background-color: #E8F0FE;\n",
              "      border: none;\n",
              "      border-radius: 50%;\n",
              "      cursor: pointer;\n",
              "      display: none;\n",
              "      fill: #1967D2;\n",
              "      height: 32px;\n",
              "      padding: 0 0 0 0;\n",
              "      width: 32px;\n",
              "    }\n",
              "\n",
              "    .colab-df-convert:hover {\n",
              "      background-color: #E2EBFA;\n",
              "      box-shadow: 0px 1px 2px rgba(60, 64, 67, 0.3), 0px 1px 3px 1px rgba(60, 64, 67, 0.15);\n",
              "      fill: #174EA6;\n",
              "    }\n",
              "\n",
              "    [theme=dark] .colab-df-convert {\n",
              "      background-color: #3B4455;\n",
              "      fill: #D2E3FC;\n",
              "    }\n",
              "\n",
              "    [theme=dark] .colab-df-convert:hover {\n",
              "      background-color: #434B5C;\n",
              "      box-shadow: 0px 1px 3px 1px rgba(0, 0, 0, 0.15);\n",
              "      filter: drop-shadow(0px 1px 2px rgba(0, 0, 0, 0.3));\n",
              "      fill: #FFFFFF;\n",
              "    }\n",
              "  </style>\n",
              "\n",
              "      <script>\n",
              "        const buttonEl =\n",
              "          document.querySelector('#df-98a14c3e-b7e9-4a1e-8a3b-0bcbcdfb7dcf button.colab-df-convert');\n",
              "        buttonEl.style.display =\n",
              "          google.colab.kernel.accessAllowed ? 'block' : 'none';\n",
              "\n",
              "        async function convertToInteractive(key) {\n",
              "          const element = document.querySelector('#df-98a14c3e-b7e9-4a1e-8a3b-0bcbcdfb7dcf');\n",
              "          const dataTable =\n",
              "            await google.colab.kernel.invokeFunction('convertToInteractive',\n",
              "                                                     [key], {});\n",
              "          if (!dataTable) return;\n",
              "\n",
              "          const docLinkHtml = 'Like what you see? Visit the ' +\n",
              "            '<a target=\"_blank\" href=https://colab.research.google.com/notebooks/data_table.ipynb>data table notebook</a>'\n",
              "            + ' to learn more about interactive tables.';\n",
              "          element.innerHTML = '';\n",
              "          dataTable['output_type'] = 'display_data';\n",
              "          await google.colab.output.renderOutput(dataTable, element);\n",
              "          const docLink = document.createElement('div');\n",
              "          docLink.innerHTML = docLinkHtml;\n",
              "          element.appendChild(docLink);\n",
              "        }\n",
              "      </script>\n",
              "    </div>\n",
              "  </div>\n",
              "  "
            ],
            "text/plain": [
              "      Distance(metres)  Heartrate(BPM)  ...  Elevation(meters)  Hill slope(%)\n",
              "0             0.000000        0.716814  ...            0.01313       0.339172\n",
              "1             0.000000        0.716814  ...            0.01313       0.292359\n",
              "2             0.000000        0.716814  ...            0.01313       0.248565\n",
              "3             0.000525        0.000000  ...            0.01313       0.234974\n",
              "4             0.000525        0.008850  ...            0.01313       0.255512\n",
              "...                ...             ...  ...                ...            ...\n",
              "4411          0.999478        0.345133  ...            0.01103       0.389006\n",
              "4412          1.000000        0.345133  ...            0.01103       0.371791\n",
              "4413          1.000000        0.345133  ...            0.01103       0.386288\n",
              "4414          1.000000        0.336283  ...            0.01103       0.427967\n",
              "4415          1.000000        0.336283  ...            0.01103       0.491392\n",
              "\n",
              "[4416 rows x 6 columns]"
            ]
          },
          "metadata": {},
          "execution_count": 18
        }
      ],
      "source": [
        "from sklearn.preprocessing import MinMaxScaler\n",
        "\n",
        "scaler = MinMaxScaler()\n",
        "\n",
        "cleaned_data = pd.DataFrame(scaler.fit_transform(removed_outliers_data), columns=removed_outliers_data.columns)\n",
        "\n",
        "cleaned_data"
      ]
    },
    {
      "cell_type": "code",
      "source": [
        ""
      ],
      "metadata": {
        "id": "cwvLHd4LQzJg"
      },
      "id": "cwvLHd4LQzJg",
      "execution_count": null,
      "outputs": []
    },
    {
      "cell_type": "code",
      "execution_count": 29,
      "id": "050ac133-1c84-4360-9c5d-c02cae9905e8",
      "metadata": {
        "colab": {
          "base_uri": "https://localhost:8080/"
        },
        "id": "050ac133-1c84-4360-9c5d-c02cae9905e8",
        "outputId": "21a9f8cc-fcf3-435d-b4a4-cff4e89d4fbc"
      },
      "outputs": [
        {
          "output_type": "execute_result",
          "data": {
            "text/plain": [
              "KMeans(n_clusters=9)"
            ]
          },
          "metadata": {},
          "execution_count": 29
        }
      ],
      "source": [
        "from sklearn.cluster import KMeans\n",
        "import statsmodels.api as sm\n",
        "kmeans = KMeans(n_clusters=9, init='k-means++', n_init=10, max_iter=300,)\n",
        "kmeans.fit(cleaned_data)"
      ]
    },
    {
      "cell_type": "code",
      "source": [
        " kmeans.cluster_centers_"
      ],
      "metadata": {
        "colab": {
          "base_uri": "https://localhost:8080/"
        },
        "id": "sp_QpSFlTXTN",
        "outputId": "9107d426-bab9-42e0-b810-1a5f93884ddd"
      },
      "id": "sp_QpSFlTXTN",
      "execution_count": 30,
      "outputs": [
        {
          "output_type": "execute_result",
          "data": {
            "text/plain": [
              "array([[0.09456195, 0.45756915, 0.41184753, 0.51752181, 0.03531829,\n",
              "        0.44614132],\n",
              "       [0.72260046, 0.75612576, 0.18857752, 0.40255899, 0.46558726,\n",
              "        0.68799145],\n",
              "       [0.33920338, 0.94837576, 0.20611904, 0.47652851, 0.77763888,\n",
              "        0.70831712],\n",
              "       [0.60256675, 0.59394937, 0.75042004, 0.00898949, 0.69131113,\n",
              "        0.1850702 ],\n",
              "       [0.91237061, 0.73809954, 0.57351602, 0.63047997, 0.04232986,\n",
              "        0.41740624],\n",
              "       [0.2441111 , 0.89505219, 0.18523179, 0.44979775, 0.31272016,\n",
              "        0.76424275],\n",
              "       [0.75532316, 0.56332217, 0.74387819, 0.63691321, 0.33915975,\n",
              "        0.26169729],\n",
              "       [0.96701445, 0.47803848, 0.31129109, 0.1174091 , 0.01889356,\n",
              "        0.38726624],\n",
              "       [0.50026539, 0.69811267, 0.48426899, 0.60154003, 0.90448114,\n",
              "        0.42276554]])"
            ]
          },
          "metadata": {},
          "execution_count": 30
        }
      ]
    },
    {
      "cell_type": "code",
      "source": [
        "import sys\n",
        "np.set_printoptions(threshold=sys.maxsize)\n",
        "kmeans.labels_[:]"
      ],
      "metadata": {
        "colab": {
          "base_uri": "https://localhost:8080/"
        },
        "id": "qdVqFum6TajR",
        "outputId": "34702621-49c6-4b09-aeed-5bf1f83195f8"
      },
      "id": "qdVqFum6TajR",
      "execution_count": 40,
      "outputs": [
        {
          "output_type": "execute_result",
          "data": {
            "text/plain": [
              "4416"
            ]
          },
          "metadata": {},
          "execution_count": 40
        }
      ]
    },
    {
      "cell_type": "code",
      "source": [
        "kmeans.n_iter_"
      ],
      "metadata": {
        "colab": {
          "base_uri": "https://localhost:8080/"
        },
        "id": "Sxgb29M-T2s-",
        "outputId": "30a8666a-f452-477b-ec54-66221ce469fc"
      },
      "id": "Sxgb29M-T2s-",
      "execution_count": 36,
      "outputs": [
        {
          "output_type": "execute_result",
          "data": {
            "text/plain": [
              "8"
            ]
          },
          "metadata": {},
          "execution_count": 36
        }
      ]
    },
    {
      "cell_type": "code",
      "source": [
        "labeled_data = cleaned_data.reindex(kmeans.labels_[:])"
      ],
      "metadata": {
        "id": "wi9FLUSEXhiM"
      },
      "id": "wi9FLUSEXhiM",
      "execution_count": 41,
      "outputs": []
    },
    {
      "cell_type": "code",
      "source": [
        "# trying to deal with Bcubed evaluation method"
      ],
      "metadata": {
        "colab": {
          "base_uri": "https://localhost:8080/",
          "height": 206
        },
        "id": "ysMd-YBpU9K5",
        "outputId": "643a4cb5-46ef-42f8-c745-6ee1dfe8f735"
      },
      "id": "ysMd-YBpU9K5",
      "execution_count": 42,
      "outputs": [
        {
          "output_type": "execute_result",
          "data": {
            "text/html": [
              "\n",
              "  <div id=\"df-4e7964cd-8dd5-4a5d-b983-361a1b12468e\">\n",
              "    <div class=\"colab-df-container\">\n",
              "      <div>\n",
              "<style scoped>\n",
              "    .dataframe tbody tr th:only-of-type {\n",
              "        vertical-align: middle;\n",
              "    }\n",
              "\n",
              "    .dataframe tbody tr th {\n",
              "        vertical-align: top;\n",
              "    }\n",
              "\n",
              "    .dataframe thead th {\n",
              "        text-align: right;\n",
              "    }\n",
              "</style>\n",
              "<table border=\"1\" class=\"dataframe\">\n",
              "  <thead>\n",
              "    <tr style=\"text-align: right;\">\n",
              "      <th></th>\n",
              "      <th>Distance(metres)</th>\n",
              "      <th>Heartrate(BPM)</th>\n",
              "      <th>Speed(m/s)</th>\n",
              "      <th>Cadaence(revs/s)</th>\n",
              "      <th>Elevation(meters)</th>\n",
              "      <th>Hill slope(%)</th>\n",
              "    </tr>\n",
              "  </thead>\n",
              "  <tbody>\n",
              "    <tr>\n",
              "      <th>0</th>\n",
              "      <td>0.0</td>\n",
              "      <td>0.716814</td>\n",
              "      <td>0.0798</td>\n",
              "      <td>0.0</td>\n",
              "      <td>0.01313</td>\n",
              "      <td>0.339172</td>\n",
              "    </tr>\n",
              "    <tr>\n",
              "      <th>0</th>\n",
              "      <td>0.0</td>\n",
              "      <td>0.716814</td>\n",
              "      <td>0.0798</td>\n",
              "      <td>0.0</td>\n",
              "      <td>0.01313</td>\n",
              "      <td>0.339172</td>\n",
              "    </tr>\n",
              "    <tr>\n",
              "      <th>0</th>\n",
              "      <td>0.0</td>\n",
              "      <td>0.716814</td>\n",
              "      <td>0.0798</td>\n",
              "      <td>0.0</td>\n",
              "      <td>0.01313</td>\n",
              "      <td>0.339172</td>\n",
              "    </tr>\n",
              "    <tr>\n",
              "      <th>0</th>\n",
              "      <td>0.0</td>\n",
              "      <td>0.716814</td>\n",
              "      <td>0.0798</td>\n",
              "      <td>0.0</td>\n",
              "      <td>0.01313</td>\n",
              "      <td>0.339172</td>\n",
              "    </tr>\n",
              "    <tr>\n",
              "      <th>0</th>\n",
              "      <td>0.0</td>\n",
              "      <td>0.716814</td>\n",
              "      <td>0.0798</td>\n",
              "      <td>0.0</td>\n",
              "      <td>0.01313</td>\n",
              "      <td>0.339172</td>\n",
              "    </tr>\n",
              "  </tbody>\n",
              "</table>\n",
              "</div>\n",
              "      <button class=\"colab-df-convert\" onclick=\"convertToInteractive('df-4e7964cd-8dd5-4a5d-b983-361a1b12468e')\"\n",
              "              title=\"Convert this dataframe to an interactive table.\"\n",
              "              style=\"display:none;\">\n",
              "        \n",
              "  <svg xmlns=\"http://www.w3.org/2000/svg\" height=\"24px\"viewBox=\"0 0 24 24\"\n",
              "       width=\"24px\">\n",
              "    <path d=\"M0 0h24v24H0V0z\" fill=\"none\"/>\n",
              "    <path d=\"M18.56 5.44l.94 2.06.94-2.06 2.06-.94-2.06-.94-.94-2.06-.94 2.06-2.06.94zm-11 1L8.5 8.5l.94-2.06 2.06-.94-2.06-.94L8.5 2.5l-.94 2.06-2.06.94zm10 10l.94 2.06.94-2.06 2.06-.94-2.06-.94-.94-2.06-.94 2.06-2.06.94z\"/><path d=\"M17.41 7.96l-1.37-1.37c-.4-.4-.92-.59-1.43-.59-.52 0-1.04.2-1.43.59L10.3 9.45l-7.72 7.72c-.78.78-.78 2.05 0 2.83L4 21.41c.39.39.9.59 1.41.59.51 0 1.02-.2 1.41-.59l7.78-7.78 2.81-2.81c.8-.78.8-2.07 0-2.86zM5.41 20L4 18.59l7.72-7.72 1.47 1.35L5.41 20z\"/>\n",
              "  </svg>\n",
              "      </button>\n",
              "      \n",
              "  <style>\n",
              "    .colab-df-container {\n",
              "      display:flex;\n",
              "      flex-wrap:wrap;\n",
              "      gap: 12px;\n",
              "    }\n",
              "\n",
              "    .colab-df-convert {\n",
              "      background-color: #E8F0FE;\n",
              "      border: none;\n",
              "      border-radius: 50%;\n",
              "      cursor: pointer;\n",
              "      display: none;\n",
              "      fill: #1967D2;\n",
              "      height: 32px;\n",
              "      padding: 0 0 0 0;\n",
              "      width: 32px;\n",
              "    }\n",
              "\n",
              "    .colab-df-convert:hover {\n",
              "      background-color: #E2EBFA;\n",
              "      box-shadow: 0px 1px 2px rgba(60, 64, 67, 0.3), 0px 1px 3px 1px rgba(60, 64, 67, 0.15);\n",
              "      fill: #174EA6;\n",
              "    }\n",
              "\n",
              "    [theme=dark] .colab-df-convert {\n",
              "      background-color: #3B4455;\n",
              "      fill: #D2E3FC;\n",
              "    }\n",
              "\n",
              "    [theme=dark] .colab-df-convert:hover {\n",
              "      background-color: #434B5C;\n",
              "      box-shadow: 0px 1px 3px 1px rgba(0, 0, 0, 0.15);\n",
              "      filter: drop-shadow(0px 1px 2px rgba(0, 0, 0, 0.3));\n",
              "      fill: #FFFFFF;\n",
              "    }\n",
              "  </style>\n",
              "\n",
              "      <script>\n",
              "        const buttonEl =\n",
              "          document.querySelector('#df-4e7964cd-8dd5-4a5d-b983-361a1b12468e button.colab-df-convert');\n",
              "        buttonEl.style.display =\n",
              "          google.colab.kernel.accessAllowed ? 'block' : 'none';\n",
              "\n",
              "        async function convertToInteractive(key) {\n",
              "          const element = document.querySelector('#df-4e7964cd-8dd5-4a5d-b983-361a1b12468e');\n",
              "          const dataTable =\n",
              "            await google.colab.kernel.invokeFunction('convertToInteractive',\n",
              "                                                     [key], {});\n",
              "          if (!dataTable) return;\n",
              "\n",
              "          const docLinkHtml = 'Like what you see? Visit the ' +\n",
              "            '<a target=\"_blank\" href=https://colab.research.google.com/notebooks/data_table.ipynb>data table notebook</a>'\n",
              "            + ' to learn more about interactive tables.';\n",
              "          element.innerHTML = '';\n",
              "          dataTable['output_type'] = 'display_data';\n",
              "          await google.colab.output.renderOutput(dataTable, element);\n",
              "          const docLink = document.createElement('div');\n",
              "          docLink.innerHTML = docLinkHtml;\n",
              "          element.appendChild(docLink);\n",
              "        }\n",
              "      </script>\n",
              "    </div>\n",
              "  </div>\n",
              "  "
            ],
            "text/plain": [
              "   Distance(metres)  Heartrate(BPM)  ...  Elevation(meters)  Hill slope(%)\n",
              "0               0.0        0.716814  ...            0.01313       0.339172\n",
              "0               0.0        0.716814  ...            0.01313       0.339172\n",
              "0               0.0        0.716814  ...            0.01313       0.339172\n",
              "0               0.0        0.716814  ...            0.01313       0.339172\n",
              "0               0.0        0.716814  ...            0.01313       0.339172\n",
              "\n",
              "[5 rows x 6 columns]"
            ]
          },
          "metadata": {},
          "execution_count": 42
        }
      ]
    }
  ],
  "metadata": {
    "kernelspec": {
      "display_name": "Python 3 (ipykernel)",
      "language": "python",
      "name": "python3"
    },
    "language_info": {
      "codemirror_mode": {
        "name": "ipython",
        "version": 3
      },
      "file_extension": ".py",
      "mimetype": "text/x-python",
      "name": "python",
      "nbconvert_exporter": "python",
      "pygments_lexer": "ipython3",
      "version": "3.9.7"
    },
    "colab": {
      "name": "project3.ipynb",
      "provenance": []
    }
  },
  "nbformat": 4,
  "nbformat_minor": 5
}